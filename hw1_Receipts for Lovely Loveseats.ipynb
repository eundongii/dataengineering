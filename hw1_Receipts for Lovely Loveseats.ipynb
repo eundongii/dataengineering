{
 "cells": [
  {
   "cell_type": "markdown",
   "id": "8ca4170a",
   "metadata": {},
   "source": [
    "We’ve decided to pursue the dream of small-business ownership and open up a furniture store called Lovely Loveseats for Neat Suites on Fleet Street. With our newfound knowledge of Python programming, we’re going to build a system to help speed up the process of creating receipts for your customers.\n",
    "\n",
    "In this project, we will be storing the names and prices of a furniture store’s catalog in variables. You will then process the total price and item list of customers, printing them to the output terminal."
   ]
  },
  {
   "cell_type": "code",
   "execution_count": 81,
   "id": "e70ec3f9",
   "metadata": {},
   "outputs": [],
   "source": [
    "# 1.첫 번째 항목인 가게 이름을 딴 Lovely Loveseat를 추가해 보겠습니다. 라는 변수를 lovely_loveseat_description만들고 여기에 다음 문자열을 할당합니다.\n",
    "lovely_loveseat_description=\"Lovely Loveseat. Tufted polyester blend on wood. 32 inches high x 40 inches wide x 30 inches deep. Red or white.\""
   ]
  },
  {
   "cell_type": "code",
   "execution_count": 82,
   "id": "f607d420",
   "metadata": {},
   "outputs": [],
   "source": [
    "# 2.좋습니다. 이제 사랑 좌석에 대한 가격을 생성해 보겠습니다. 변수 lovely_loveseat_price를 생성하고 와 동일하게 설정합니다 254.00.\n",
    "lovely_loveseat_price=254.00"
   ]
  },
  {
   "cell_type": "code",
   "execution_count": 83,
   "id": "a87e0e14",
   "metadata": {},
   "outputs": [],
   "source": [
    "# 3.또 다른 특징적인 가구로 인벤토리를 확장해 봅시다! 라는 변수를 stylish_settee_description만들고 여기에 다음 문자열을 할당합니다.\n",
    "stylish_settee_description=\"Stylish Settee. Faux leather on birch. 29.50 inches high x 54.75 inches wide x 28 inches deep. Black.\""
   ]
  },
  {
   "cell_type": "code",
   "execution_count": 84,
   "id": "5dd61967",
   "metadata": {},
   "outputs": [],
   "source": [
    "# 4.이제 Stylish Settee의 가격을 설정해 보겠습니다. 변수를 생성하고 stylish_settee_price의 값을 할당합니다 180.50.\n",
    "stylish_settee_price=180.50"
   ]
  },
  {
   "cell_type": "code",
   "execution_count": 85,
   "id": "df22455e",
   "metadata": {},
   "outputs": [],
   "source": [
    "# 5.정말 대단합니다. 사업을 시작하기 전에 하나의 항목이 더 필요합니다. 라는 새 변수를 luxurious_lamp_description만들고 다음을 할당합니다.\n",
    "luxurious_lamp_description=\"Luxurious Lamp. Glass and iron. 36 inches tall. Brown with cream shade.\""
   ]
  },
  {
   "cell_type": "code",
   "execution_count": 86,
   "id": "eff4e731",
   "metadata": {},
   "outputs": [],
   "source": [
    "# 6.이 항목의 가격을 설정해 보겠습니다. 라는 변수를 luxurious_lamp_price만들고 와 동일하게 설정합니다 52.15.\n",
    "luxurious_lamp_price=52.15"
   ]
  },
  {
   "cell_type": "code",
   "execution_count": 87,
   "id": "3cc8e402",
   "metadata": {},
   "outputs": [],
   "source": [
    "# 7.사업을 하려면 판매세도 계산해야 합니다. 변수에도 저장해 보겠습니다.\n",
    "sales_tax=.088"
   ]
  },
  {
   "cell_type": "code",
   "execution_count": 88,
   "id": "4873a231",
   "metadata": {},
   "outputs": [],
   "source": [
    "# 8.우리의 첫 번째 고객이 구매를 하고 있습니다! 라는 변수를 정의하여 지출을 계속 집계해 보겠습니다 customer_one_total. 그들은 아직 아무것도 구입하지 않았으므로 0지금은 해당 변수를 와 같게 설정하겠습니다.\n",
    "customer_one_total=0"
   ]
  },
  {
   "cell_type": "code",
   "execution_count": 89,
   "id": "1e0d21ad",
   "metadata": {},
   "outputs": [],
   "source": [
    "# 9.우리는 또한 그들이 구매하는 물건에 대한 설명 목록을 유지해야 합니다. 라는 변수 customer_one_itemization를 만들고 빈 문자열과 동일하게 설정합니다 \"\". 우리는 그들이 구매할 때 이에 대한 설명을 붙일 것입니다.\n",
    "customer_one_itemization=\" \""
   ]
  },
  {
   "cell_type": "code",
   "execution_count": 90,
   "id": "5cb3cb65",
   "metadata": {},
   "outputs": [],
   "source": [
    "# 10.고객이 Lovely Loveseat를 구매하기로 결정했습니다! 에 가격을 추가합니다 customer_one_total.\n",
    "customer_one_total += lovely_loveseat_price"
   ]
  },
  {
   "cell_type": "code",
   "execution_count": 91,
   "id": "03036340",
   "metadata": {},
   "outputs": [],
   "source": [
    "# 11.고객이 구매한 품목을 추적해 보겠습니다. 에 Lovely Loveseat 에 대한 설명을 추가하세요 customer_one_itemization.\n",
    "customer_one_itemization += lovely_loveseat_description"
   ]
  },
  {
   "cell_type": "code",
   "execution_count": 92,
   "id": "c56e9400",
   "metadata": {},
   "outputs": [],
   "source": [
    "# 12.저희 고객님께서도 고급스러운 램프를 구매하기로 결정하셨습니다! 고객의 총액에 가격을 추가해 보겠습니다.\n",
    "customer_one_total += luxurious_lamp_price"
   ]
  },
  {
   "cell_type": "code",
   "execution_count": 93,
   "id": "682d9f45",
   "metadata": {},
   "outputs": [],
   "source": [
    "# 13.항목을 최신 상태로 유지하고 고급 램프에 대한 설명을 항목에 추가하겠습니다.\n",
    "customer_one_itemization += luxurious_lamp_description"
   ]
  },
  {
   "cell_type": "code",
   "execution_count": 94,
   "id": "8756dd39",
   "metadata": {},
   "outputs": [],
   "source": [
    "# 14.체크아웃할 준비가 되었습니다! 판매세 계산부터 시작하겠습니다. 라는 변수를 만들고 times customer_one_tax와 동일하게 설정합니다 .customer_one_totalsales_tax\n",
    "customer_one_tax=customer_one_total*sales_tax"
   ]
  },
  {
   "cell_type": "code",
   "execution_count": 95,
   "id": "06229126",
   "metadata": {},
   "outputs": [],
   "source": [
    "# 15.고객의 총 비용에 판매세를 추가합니다.\n",
    "customer_one_total+=customer_one_tax"
   ]
  },
  {
   "cell_type": "code",
   "execution_count": 96,
   "id": "d60bee86",
   "metadata": {},
   "outputs": [
    {
     "name": "stdout",
     "output_type": "stream",
     "text": [
      "Customer One Items:\n"
     ]
    }
   ],
   "source": [
    "# 16.영수증 인쇄를 시작하겠습니다! 항목별 표제를 인쇄하여 시작합니다. 문구를 인쇄하십시오 \"Customer One Items:\".\n",
    "print(\"Customer One Items:\")"
   ]
  },
  {
   "cell_type": "code",
   "execution_count": 97,
   "id": "5c5b9927",
   "metadata": {},
   "outputs": [
    {
     "name": "stdout",
     "output_type": "stream",
     "text": [
      " Lovely Loveseat. Tufted polyester blend on wood. 32 inches high x 40 inches wide x 30 inches deep. Red or white.Luxurious Lamp. Glass and iron. 36 inches tall. Brown with cream shade.\n"
     ]
    }
   ],
   "source": [
    "# 17.인쇄 customer_one_itemization.\n",
    "print(customer_one_itemization)"
   ]
  },
  {
   "cell_type": "code",
   "execution_count": 98,
   "id": "07748924",
   "metadata": {},
   "outputs": [
    {
     "name": "stdout",
     "output_type": "stream",
     "text": [
      "Customer One Total:\n"
     ]
    }
   ],
   "source": [
    "# 18.이제 총 비용에 대한 제목을 추가하십시오. 인쇄\"Customer One Total:\"\n",
    "print(\"Customer One Total:\")"
   ]
  },
  {
   "cell_type": "code",
   "execution_count": 99,
   "id": "e955e230",
   "metadata": {},
   "outputs": [
    {
     "name": "stdout",
     "output_type": "stream",
     "text": [
      "333.09119999999996\n"
     ]
    }
   ],
   "source": [
    "# 19.이제 총계를 인쇄하십시오! 첫 번째 고객은 이제 구매한 물건에 대한 영수증을 받았습니다.\n",
    "print(customer_one_total)"
   ]
  },
  {
   "cell_type": "markdown",
   "id": "cfb83856",
   "metadata": {},
   "source": [
    "축하합니다! 우리는 카탈로그를 만들고 첫 번째 고객에게 서비스를 제공했습니다. 문자열과 숫자에 대한 지식을 사용하여 변수를 만들고 업데이트했습니다. 항목별 목록과 고객의 총 비용을 인쇄할 수 있었습니다. 사랑스러운!"
   ]
  }
 ],
 "metadata": {
  "kernelspec": {
   "display_name": "Python 3 (ipykernel)",
   "language": "python",
   "name": "python3"
  },
  "language_info": {
   "codemirror_mode": {
    "name": "ipython",
    "version": 3
   },
   "file_extension": ".py",
   "mimetype": "text/x-python",
   "name": "python",
   "nbconvert_exporter": "python",
   "pygments_lexer": "ipython3",
   "version": "3.9.7"
  }
 },
 "nbformat": 4,
 "nbformat_minor": 5
}
