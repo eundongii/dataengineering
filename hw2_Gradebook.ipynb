{
 "cells": [
  {
   "cell_type": "markdown",
   "id": "85020e19",
   "metadata": {},
   "source": [
    "당신은 학생이고 Python을 사용하여 과목과 성적을 구성하려고 합니다. 과목과 점수를 정리하기 위해 목록에 대해 배운 내용을 살펴보겠습니다."
   ]
  },
  {
   "cell_type": "code",
   "execution_count": 100,
   "id": "494a09ee",
   "metadata": {},
   "outputs": [],
   "source": [
    "# 1.subjects라는 목록을 만들고 수강 중인 수업으로 채우세요.\n",
    "subjects=[\"physics\",\"calculus\",\"poetry\",\"history\"]"
   ]
  },
  {
   "cell_type": "code",
   "execution_count": 102,
   "id": "2f644862",
   "metadata": {},
   "outputs": [],
   "source": [
    "# 2.grades라는 목록을 만들고 점수로 채우십시오.\n",
    "grades=[98,97,85,88]"
   ]
  },
  {
   "cell_type": "code",
   "execution_count": 103,
   "id": "bc06cba7",
   "metadata": {},
   "outputs": [],
   "source": [
    "# 3.subjects수동으로(방법 없이) 및 grades을 결합할 2차원 목록을 만듭니다. 아래 표를 관련 값에 대한 참조로 사용하십시오. gradebook라는 변수에 값을 할당합니다.\n",
    "gradebook=[[\"physics\",98],[\"calculus\",97],[\"poetry\",85],[\"history\",88]]"
   ]
  },
  {
   "cell_type": "code",
   "execution_count": 107,
   "id": "98a24d5a",
   "metadata": {},
   "outputs": [
    {
     "name": "stdout",
     "output_type": "stream",
     "text": [
      "[['physics', 98], ['calculus', 97], ['poetry', 85], ['history', 88], ['computer science', 100], ['visual arts', 93]]\n"
     ]
    }
   ],
   "source": [
    "# 4.인쇄 gradebook.\n",
    "print(gradebook)"
   ]
  },
  {
   "cell_type": "code",
   "execution_count": 105,
   "id": "b1f02a06",
   "metadata": {},
   "outputs": [],
   "source": [
    "# 5.컴퓨터 과학 수업의 성적이 방금 나왔습니다! 당신은 완벽한 점수를 얻었습니다, 100! .append()이 방법을 사용하여 의 값 \"computer science\"과 관련 등급 값이 있는 100목록을 의 2차원 목록에 추가합니다.gradebook.\n",
    "gradebook.append([\"computer science\", 100])"
   ]
  },
  {
   "cell_type": "code",
   "execution_count": 106,
   "id": "ca10086c",
   "metadata": {},
   "outputs": [],
   "source": [
    "# 6.귀하의 학점이 \"visual arts\"방금 들어왔습니다! 당신은 93을 얻었다! append에 추가 [\"visual arts\", 93]하는 데 사용 합니다 gradebook.\n",
    "gradebook.append([\"visual arts\", 93])"
   ]
  },
  {
   "cell_type": "code",
   "execution_count": 108,
   "id": "96218073",
   "metadata": {},
   "outputs": [],
   "source": [
    "# 7.우리 강사는 점수를 잘못 매겼고 시각 예술 수업에 대해 추가로 5점을 보상하고 있다고 말했습니다. 시각 예술 수업의 성적 지수에 액세스하여 5점 더 높도록 수정합니다.\n",
    "gradebook[5][1] += 5"
   ]
  },
  {
   "cell_type": "code",
   "execution_count": 109,
   "id": "1ab64201",
   "metadata": {},
   "outputs": [],
   "source": [
    "# 8.시 수업에 대해 숫자 등급 값에서 합격/불합격 옵션으로 전환하기로 결정했습니다. gradebook시 수업 에 대한 등급 값을 찾아 .remove()삭제하는 방법을 사용합니다.\n",
    "gradebook[2].remove(85)"
   ]
  },
  {
   "cell_type": "code",
   "execution_count": 110,
   "id": "28dd0867",
   "metadata": {},
   "outputs": [],
   "source": [
    "# 9.메서드를 사용 하여 시 클래스가 있는 하위 목록에 .append()새 값을 추가합니다 .\"Pass\"\n",
    "gradebook[2].append(\"pass\")"
   ]
  },
  {
   "cell_type": "code",
   "execution_count": 111,
   "id": "fcbaa119",
   "metadata": {},
   "outputs": [
    {
     "name": "stdout",
     "output_type": "stream",
     "text": [
      "[['politics', 80], ['latin', 96], ['dance', 97], ['architecture', 65], ['physics', 98], ['calculus', 97], ['poetry', 'pass'], ['history', 88], ['computer science', 100], ['visual arts', 98]]\n"
     ]
    }
   ],
   "source": [
    "# 10.또한 지난 학기의 성적이 에 저장되어 last_semester_gradebook있습니다.\n",
    "# 11.하나의 완전한 성적 기록부를 갖기 위해 와 를 full_gradebook결합 하는 새 변수를 만듭니다 . 완성된 목록을 보려면 인쇄 하십시오.last_semester_gradebookgradebook+full_gradebook\n",
    "last_semester_gradebook = [[\"politics\", 80], [\"latin\", 96], [\"dance\",97],[\"architecture\",65]]\n",
    "full_gradebook = last_semester_gradebook + gradebook\n",
    "print(full_gradebook)"
   ]
  }
 ],
 "metadata": {
  "kernelspec": {
   "display_name": "Python 3 (ipykernel)",
   "language": "python",
   "name": "python3"
  },
  "language_info": {
   "codemirror_mode": {
    "name": "ipython",
    "version": 3
   },
   "file_extension": ".py",
   "mimetype": "text/x-python",
   "name": "python",
   "nbconvert_exporter": "python",
   "pygments_lexer": "ipython3",
   "version": "3.9.7"
  }
 },
 "nbformat": 4,
 "nbformat_minor": 5
}
